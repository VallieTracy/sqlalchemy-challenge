{
 "cells": [
  {
   "cell_type": "code",
   "execution_count": 2,
   "metadata": {},
   "outputs": [],
   "source": [
    "# Import dependencies\n",
    "%matplotlib inline\n",
    "from matplotlib import style\n",
    "style.use('fivethirtyeight')\n",
    "import matplotlib.pyplot as plt\n",
    "import os"
   ]
  },
  {
   "cell_type": "code",
   "execution_count": 3,
   "metadata": {},
   "outputs": [],
   "source": [
    "import numpy as np\n",
    "import pandas as pd"
   ]
  },
  {
   "cell_type": "code",
   "execution_count": 4,
   "metadata": {},
   "outputs": [],
   "source": [
    "import datetime as dt\n",
    "from datetime import date"
   ]
  },
  {
   "cell_type": "markdown",
   "metadata": {},
   "source": [
    "# Reflect Tables into SQLAlchemy ORM\n",
    "--------------\n"
   ]
  },
  {
   "cell_type": "code",
   "execution_count": 5,
   "metadata": {},
   "outputs": [],
   "source": [
    "# Python SQL toolkit and Object Relational Mapper\n",
    "import sqlalchemy\n",
    "from sqlalchemy.ext.automap import automap_base\n",
    "from sqlalchemy.orm import Session\n",
    "from sqlalchemy import create_engine, func, inspect"
   ]
  },
  {
   "cell_type": "code",
   "execution_count": 6,
   "metadata": {},
   "outputs": [],
   "source": [
    "engine = create_engine(\"sqlite:///Resources/hawaii.sqlite\")"
   ]
  },
  {
   "cell_type": "code",
   "execution_count": 7,
   "metadata": {},
   "outputs": [],
   "source": [
    "# Reflect the existing database into a new model\n",
    "Base = automap_base()\n",
    "\n",
    "# Reflect the tables into ORM class\n",
    "Base.prepare(engine, reflect=True)"
   ]
  },
  {
   "cell_type": "code",
   "execution_count": 8,
   "metadata": {},
   "outputs": [
    {
     "data": {
      "text/plain": [
       "['measurement', 'station']"
      ]
     },
     "execution_count": 8,
     "metadata": {},
     "output_type": "execute_result"
    }
   ],
   "source": [
    "# We can view all of the classes that automap found\n",
    "Base.classes.keys()"
   ]
  },
  {
   "cell_type": "code",
   "execution_count": 9,
   "metadata": {},
   "outputs": [],
   "source": [
    "# Save references to each table\n",
    "Measurement = Base.classes.measurement\n",
    "Station = Base.classes.station"
   ]
  },
  {
   "cell_type": "code",
   "execution_count": 10,
   "metadata": {},
   "outputs": [],
   "source": [
    "# Create our session (link) from Python to the DB\n",
    "session = Session(engine)"
   ]
  },
  {
   "cell_type": "markdown",
   "metadata": {},
   "source": [
    "# Exploratory Climate Analysis\n",
    "-------"
   ]
  },
  {
   "cell_type": "markdown",
   "metadata": {},
   "source": [
    "**PRECIPITATION ANALYSIS**"
   ]
  },
  {
   "cell_type": "code",
   "execution_count": null,
   "metadata": {},
   "outputs": [],
   "source": [
    "# Want the dataset for the last 12 months in the database\n",
    "# Query the most recent date in the database\n",
    "session.query(Measurement.date).order_by(Measurement.date.desc()).first()"
   ]
  },
  {
   "cell_type": "code",
   "execution_count": null,
   "metadata": {},
   "outputs": [],
   "source": [
    "# Perform a query to retrieve the data and precipitation scores\n",
    "\n",
    "# Create variable to store beginning date of last 12 months' data\n",
    "start_date = dt.date(2017, 8, 23) - dt.timedelta(days=365)\n",
    "\n",
    "# Want to query for date and prcp \n",
    "sel = [Measurement.date, Measurement.prcp]\n",
    "precip_totals = session.query(*sel).\\\n",
    "    filter(Measurement.date >= start_date).\\\n",
    "    order_by(Measurement.date).all()\n",
    "precip_totals"
   ]
  },
  {
   "cell_type": "code",
   "execution_count": null,
   "metadata": {},
   "outputs": [],
   "source": [
    "# Save the query results as a Pandas DataFrame and set the index to the date column\n",
    "precip_df = pd.DataFrame(precip_totals, columns = ['date', 'prcp'])\n",
    "precip_df.set_index('date', inplace=True)\n",
    "\n",
    "# Drop 'NaN' values\n",
    "precip_df = precip_df.dropna()\n",
    "\n",
    "# Rename 'prcp' column to 'Precipitation'\n",
    "precip_df = precip_df.rename(columns=({\"prcp\": \"Precipiation\"}))\n",
    "\n",
    "# Sort the dataframe by date\n",
    "precip_df = precip_df.sort_index()\n",
    "\n",
    "# Preview dataframe\n",
    "precip_df"
   ]
  },
  {
   "cell_type": "code",
   "execution_count": null,
   "metadata": {},
   "outputs": [],
   "source": [
    "# Graph the above dataframe\n",
    "# First need to alter matplotlib parameters\n",
    "\n",
    "# Get current size\n",
    "fig_size = plt.rcParams[\"figure.figsize\"]\n",
    "\n",
    "# Print out current plot size\n",
    "print(\"Current size:\", fig_size)\n",
    "\n",
    "# Set figure width to 12 and height to 9\n",
    "fig_size[0] = 12\n",
    "fig_size[1] = 9\n",
    "plt.rcParams[\"figure.figsize\"] = fig_size"
   ]
  },
  {
   "cell_type": "code",
   "execution_count": null,
   "metadata": {
    "scrolled": true
   },
   "outputs": [],
   "source": [
    "# Use Pandas Plotting with Matplotlib to plot the data\n",
    "\n",
    "# Rotate x-axis tick marks, change font size, and remove 'date' on x-axis\n",
    "precip_df.plot(rot=45, fontsize=18)\n",
    "plt.xlabel(\"\")\n",
    "\n",
    "# Add legend and specify font size\n",
    "plt.legend(fontsize='xx-large')\n",
    "\n",
    "plt.show()"
   ]
  },
  {
   "cell_type": "code",
   "execution_count": null,
   "metadata": {},
   "outputs": [],
   "source": [
    "# Use Pandas to calcualte the summary statistics for the precipitation data\n",
    "precip_df.describe()"
   ]
  },
  {
   "cell_type": "markdown",
   "metadata": {},
   "source": [
    "**STATION ANALYSIS**"
   ]
  },
  {
   "cell_type": "code",
   "execution_count": null,
   "metadata": {},
   "outputs": [],
   "source": [
    "#dinking around, can delete later\n",
    "#session.query(func.count(Measurement.station)).all()\n",
    "#session.query(Measurement.date).order_by(Measurement.date).first()\n",
    "#session.query(Measurement.date).order_by(Measurement.date.desc()).first()\n",
    "#today = date.today()\n",
    "#query_date = today - dt.timedelta(days=365)\n",
    "#print(\"Query Date: \", query_date)\n",
    "#session.query(func.sum(Measurement.prcp)).group_by(Measurement.station).all()\n",
    "#sel = [Measurement.station,\n",
    "       #func.sum(Measurement.prcp)]\n",
    "#precip_totals = session.query(*sel).\\\n",
    "    #filter(func.strftime(\"%Y\", Measurement.date) == '2013').\\\n",
    "    #group_by(Measurement.station).\\\n",
    "    #order_by(Measurement.station).all()\n",
    "#precip_totals\n",
    "#precip_totals = session.query(*sel).\\\n",
    "#    filter(Measurement.date == query_date).\\\n",
    "#    group_by(Measurement.station).\\\n",
    "#    order_by(Measurement.station).all()\n",
    "#precip_totals\n",
    "#print(\"Today's Date: \", today)"
   ]
  },
  {
   "cell_type": "code",
   "execution_count": null,
   "metadata": {},
   "outputs": [],
   "source": [
    "# Design a query to show how many stations are available in this dataset\n",
    "total_stations = session.query(func.count(Station.station)).all()\n",
    "total_stations"
   ]
  },
  {
   "cell_type": "code",
   "execution_count": null,
   "metadata": {},
   "outputs": [],
   "source": [
    "# What are the most active stations? (i.e. what stations have the most rows)?\n",
    "# List the stations and the counts in descending order.\n",
    "\n",
    "# Create variable to store row counts for each station\n",
    "totals = func.count(Measurement.station)\n",
    "\n",
    "# Query for station row counts and store into variable 'results'\n",
    "results = session.query(Measurement.station, totals).\\\n",
    "    group_by(Measurement.station).\\\n",
    "    order_by(totals.desc()).all()\n",
    "results"
   ]
  },
  {
   "cell_type": "code",
   "execution_count": null,
   "metadata": {},
   "outputs": [],
   "source": [
    "# Using the station id from the previous query, calculate the lowest temperature recorded, \n",
    "# highest temperature recorded, and average temperature of the most active station\n",
    "\n",
    "tobs_19281 = session.query(func.min(Measurement.tobs), func.max(Measurement.tobs), func.avg(Measurement.tobs)).\\\n",
    "    filter(Measurement.station == 'USC00519281').all()\n",
    "\n",
    "# Print out results from above in more readable format\n",
    "print(\"Station USC00519281:\")\n",
    "print(\"Min temp:\", tobs_19281[0][0])\n",
    "print(\"Max temp:\", tobs_19281[0][1])\n",
    "print(\"Avg temp:\", tobs_19281[0][2])"
   ]
  },
  {
   "cell_type": "code",
   "execution_count": null,
   "metadata": {},
   "outputs": [],
   "source": [
    "# HISTOGRAM CODE\n",
    "# Want to create a histogram, looking at 12-month tobs data for Station USC00519281\n",
    "\n",
    "# Query to find the most recent date for station 'USC00519281'\n",
    "last_date = session.query(Measurement.date).\\\n",
    "    filter(Measurement.station == 'USC00519281').\\\n",
    "    order_by(Measurement.date.desc()).first()\n",
    "last_date"
   ]
  },
  {
   "cell_type": "code",
   "execution_count": null,
   "metadata": {},
   "outputs": [],
   "source": [
    "# Create start date variable based off last_date found above\n",
    "start_date = dt.date(2017, 8, 18) - dt.timedelta(days=365)\n",
    "\n",
    "# Perform a query to retrieve the data and precipitation scores\n",
    "sel = [Measurement.date, Measurement.tobs]\n",
    "tobs_data = session.query(*sel).\\\n",
    "    filter(Measurement.date >= start_date).\\\n",
    "    filter(Measurement.station == 'USC00519281').all()\n",
    "tobs_data"
   ]
  },
  {
   "cell_type": "code",
   "execution_count": null,
   "metadata": {},
   "outputs": [],
   "source": [
    "# Create dataframe of tobs_data query\n",
    "tobs_df = pd.DataFrame(tobs_data)\n",
    "tobs_df"
   ]
  },
  {
   "cell_type": "code",
   "execution_count": null,
   "metadata": {},
   "outputs": [],
   "source": [
    "# Because I resized the default graph size for Date/Prcp, need to resize for histogram\n",
    "fig_size = plt.rcParams[\"figure.figsize\"]\n",
    "\n",
    "# Tells me what my current fig size is\n",
    "print(\"Current size:\", fig_size)\n",
    "\n",
    "# Set figure width to 8 and height to 6\n",
    "fig_size[0] = 8\n",
    "fig_size[1] = 6\n",
    "plt.rcParams[\"figure.figsize\"] = fig_size"
   ]
  },
  {
   "cell_type": "code",
   "execution_count": null,
   "metadata": {},
   "outputs": [],
   "source": [
    "# Plot histogram with bins=12\n",
    "plt.hist(tobs_df['tobs'], bins=12)\n",
    "plt.xlabel('Temp (Farenheit)')\n",
    "plt.ylabel('Frequency')\n",
    "plt.title(\"Station USC00519281 Temp Obs. Data \\n\"\n",
    "          \"(08/18/2016 - 08/18/2017)\")\n",
    "plt.show()"
   ]
  },
  {
   "cell_type": "code",
   "execution_count": null,
   "metadata": {},
   "outputs": [],
   "source": [
    "# This function called `calc_temps` will accept start date and end date in the format '%Y-%m-%d' \n",
    "# and return the minimum, average, and maximum temperatures for that range of dates\n",
    "\n",
    "    \n",
    "TMIN = func.min(Measurement.tobs)\n",
    "TAVE = func.avg(Measurement.tobs)\n",
    "TMAX = func.max(Measurement.tobs)\n",
    "\n",
    "def calc_temps(start_date, end_date):\n",
    "    \"\"\"TMIN, TAVG, and TMAX for a list of dates.\n",
    "\n",
    "    Args:\n",
    "        start_date (string): A date string in the format %Y-%m-%d\n",
    "        end_date (string): A date string in the format %Y-%m-%d\n",
    "        \n",
    "    Returns:\n",
    "        TMIN, TAVE, and TMAX\n",
    "    \"\"\"\n",
    "\n",
    "    \n",
    "    return session.query(TMIN, TAVE, TMAX).\\\n",
    "        filter(Measurement.date >= start_date).filter(Measurement.date <= end_date).all()\n",
    "\n",
    "# Function usage example\n",
    "print(calc_temps('2012-02-28', '2012-03-05'))"
   ]
  },
  {
   "cell_type": "code",
   "execution_count": null,
   "metadata": {},
   "outputs": [],
   "source": [
    "# This function called `calc_temps` will accept start date and end date in the format '%Y-%m-%d' \n",
    "# and return the minimum, average, and maximum temperatures for that range of dates\n",
    "def calc_temps(start_date, end_date):\n",
    "    \"\"\"TMIN, TAVG, and TMAX for a list of dates.\n",
    "    \n",
    "    Args:\n",
    "        start_date (string): A date string in the format %Y-%m-%d\n",
    "        end_date (string): A date string in the format %Y-%m-%d\n",
    "        \n",
    "    Returns:\n",
    "        TMIN, TAVE, and TMAX\n",
    "    \"\"\"\n",
    "    \n",
    "    return session.query(func.min(Measurement.tobs), func.avg(Measurement.tobs), func.max(Measurement.tobs)).\\\n",
    "        filter(Measurement.date >= start_date).filter(Measurement.date <= end_date).all()\n",
    "\n",
    "# Function usage example\n",
    "print(calc_temps('2012-02-28', '2012-03-05'))"
   ]
  },
  {
   "cell_type": "code",
   "execution_count": null,
   "metadata": {},
   "outputs": [],
   "source": [
    "# Use your previous function `calc_temps` to calculate the tmin, tavg, and tmax \n",
    "# for your trip using the previous year's data for those same dates.\n",
    "\n",
    "vacay_results = calc_temps('2016-12-15', '2016-12-28')\n",
    "vacay_results"
   ]
  },
  {
   "cell_type": "code",
   "execution_count": null,
   "metadata": {},
   "outputs": [],
   "source": [
    "vacay_temps = calc_temps('2016-01-15', '2016-12-28')\n",
    "vacay_df = pd.DataFrame(vacay_temps[0])\n",
    "vacay_df"
   ]
  },
  {
   "cell_type": "code",
   "execution_count": null,
   "metadata": {},
   "outputs": [],
   "source": [
    "TMAX = vacay_df.iloc[2,0]\n",
    "TMIN = vacay_df.iloc[0,0]\n",
    "error = TMAX - TMIN\n",
    "error"
   ]
  },
  {
   "cell_type": "code",
   "execution_count": null,
   "metadata": {},
   "outputs": [],
   "source": [
    "print(vacay_df.iloc[2,0])\n",
    "TAVE = vacay_df.iloc[1,0]\n",
    "TAVE"
   ]
  },
  {
   "cell_type": "code",
   "execution_count": null,
   "metadata": {},
   "outputs": [],
   "source": [
    "vacay_df.index=['TMIN', 'TAVE', 'TMAX']\n",
    "vacay_df"
   ]
  },
  {
   "cell_type": "code",
   "execution_count": null,
   "metadata": {},
   "outputs": [],
   "source": [
    "vacay_df = vacay_df.rename_axis('Stats')\n",
    "vacay_df"
   ]
  },
  {
   "cell_type": "code",
   "execution_count": null,
   "metadata": {},
   "outputs": [],
   "source": [
    "TMAX = vacay_df.iloc[2,0]\n",
    "TMIN = vacay_df.iloc[0,0]\n",
    "error = TMAX - TMIN\n",
    "TAVE = vacay_df.iloc[1,0]"
   ]
  },
  {
   "cell_type": "code",
   "execution_count": null,
   "metadata": {},
   "outputs": [],
   "source": [
    "fig, ax = plt.subplots()\n",
    "df = pd.DataFrame({\"TAVE\": [TAVE], \"Error\": [error]})\n",
    "meansum = df[\"TAVE\"]\n",
    "stdsum = df[\"Error\"]\n",
    "\n",
    "plot = meansum.plot(kind='bar', yerr=stdsum, colormap='RdPu', edgecolor='black',\\\n",
    "                    title = \"Trip Avg Temp\", grid=False, figsize=(4,7),\\\n",
    "                    ax=ax,position=0.45,error_kw=dict(ecolor='black',elinewidth=1.5),width=0.8)\n",
    "plt.ylabel(\"Temp (F)\")\n",
    "ax.yaxis.grid(True, which='major', linestyle='-', linewidth=1.5)\n",
    "plt.show()"
   ]
  },
  {
   "cell_type": "code",
   "execution_count": null,
   "metadata": {},
   "outputs": [],
   "source": []
  },
  {
   "cell_type": "code",
   "execution_count": null,
   "metadata": {},
   "outputs": [],
   "source": [
    "# Plot the results from your previous query as a bar chart. \n",
    "# Use \"Trip Avg Temp\" as your Title\n",
    "# Use the average temperature for the y value\n",
    "# Use the peak-to-peak (tmax-tmin) value as the y error bar (yerr)"
   ]
  },
  {
   "cell_type": "markdown",
   "metadata": {},
   "source": [
    "# Optional: Other Recommended Analyses\n",
    "------"
   ]
  },
  {
   "cell_type": "markdown",
   "metadata": {},
   "source": [
    "**TEMPERATURE ANALYSIS I**"
   ]
  },
  {
   "cell_type": "code",
   "execution_count": null,
   "metadata": {},
   "outputs": [],
   "source": [
    "# Want to determine if there's a statistically meaningful difference btwn temps in June & December\n",
    "# First, find avg temp in June & December for all stations, all years\n",
    "\n",
    "june = \"06\"\n",
    "\n",
    "all_june = session.query(func.avg(Measurement.tobs)).all()\n",
    "           #filter(func.strftime(\"%m\", Measurement.date) == june).all()\n",
    "all_june\n",
    "#all_june[0][0]"
   ]
  },
  {
   "cell_type": "code",
   "execution_count": null,
   "metadata": {},
   "outputs": [],
   "source": [
    "testing = session.query(Measurement.tobs, Measurement.date).\\\n",
    "          filter(func.strftime(\"%m\", Measurement.date) == june).all()\n",
    "testing"
   ]
  },
  {
   "cell_type": "code",
   "execution_count": null,
   "metadata": {},
   "outputs": [],
   "source": [
    "testing = pd.DataFrame(testing, columns=['tobs', 'date'])\n",
    "testing.head()"
   ]
  },
  {
   "cell_type": "code",
   "execution_count": null,
   "metadata": {},
   "outputs": [],
   "source": [
    "june = \"06\"\n",
    "\n",
    "all_june = session.query(func.avg(Measurement.tobs)).\\\n",
    "           filter(func.strftime(\"%m\", Measurement.date) == june).all()\n",
    "all_june[0][0]"
   ]
  },
  {
   "cell_type": "code",
   "execution_count": null,
   "metadata": {},
   "outputs": [],
   "source": [
    "june = \"06\"\n",
    "\n",
    "def june_avg(tobs):\n",
    "    sel = [func.avg(Measurement.tobs, Measurement.date)]\n",
    "    return session.query(*sel).filter(func.strftime(\"%m\", Measurement.date) == june).all()\n",
    "june_avg"
   ]
  },
  {
   "cell_type": "markdown",
   "metadata": {},
   "source": [
    "**TEMP ANALYSIS II**"
   ]
  },
  {
   "cell_type": "code",
   "execution_count": 11,
   "metadata": {},
   "outputs": [
    {
     "name": "stdout",
     "output_type": "stream",
     "text": [
      "[(62.0, 69.57142857142857, 74.0)]\n"
     ]
    }
   ],
   "source": [
    "# This function called `calc_temps` will accept start date and end date in the format '%Y-%m-%d' \n",
    "# and return the minimum, average, and maximum temperatures for that range of dates\n",
    "\n",
    "# Create variables to store queried tobs data    \n",
    "TMIN = func.min(Measurement.tobs)\n",
    "TAVE = func.avg(Measurement.tobs)\n",
    "TMAX = func.max(Measurement.tobs)\n",
    "\n",
    "def calc_temps(start_date, end_date):\n",
    "    \"\"\"TMIN, TAVG, and TMAX for a list of dates.\n",
    "\n",
    "    Args:\n",
    "        start_date (string): A date string in the format %Y-%m-%d\n",
    "        end_date (string): A date string in the format %Y-%m-%d\n",
    "        \n",
    "    Returns:\n",
    "        TMIN, TAVE, and TMAX\n",
    "    \"\"\"\n",
    "\n",
    "    return session.query(TMIN, TAVE, TMAX).\\\n",
    "        filter(Measurement.date >= start_date).filter(Measurement.date <= end_date).all()\n",
    "\n",
    "# Function usage example\n",
    "print(calc_temps('2012-02-28', '2012-03-05'))"
   ]
  },
  {
   "cell_type": "code",
   "execution_count": 12,
   "metadata": {},
   "outputs": [
    {
     "data": {
      "text/html": [
       "<div>\n",
       "<style scoped>\n",
       "    .dataframe tbody tr th:only-of-type {\n",
       "        vertical-align: middle;\n",
       "    }\n",
       "\n",
       "    .dataframe tbody tr th {\n",
       "        vertical-align: top;\n",
       "    }\n",
       "\n",
       "    .dataframe thead th {\n",
       "        text-align: right;\n",
       "    }\n",
       "</style>\n",
       "<table border=\"1\" class=\"dataframe\">\n",
       "  <thead>\n",
       "    <tr style=\"text-align: right;\">\n",
       "      <th></th>\n",
       "      <th>0</th>\n",
       "    </tr>\n",
       "  </thead>\n",
       "  <tbody>\n",
       "    <tr>\n",
       "      <td>TMIN</td>\n",
       "      <td>67.000000</td>\n",
       "    </tr>\n",
       "    <tr>\n",
       "      <td>TAVE</td>\n",
       "      <td>72.638554</td>\n",
       "    </tr>\n",
       "    <tr>\n",
       "      <td>TMAX</td>\n",
       "      <td>78.000000</td>\n",
       "    </tr>\n",
       "  </tbody>\n",
       "</table>\n",
       "</div>"
      ],
      "text/plain": [
       "              0\n",
       "TMIN  67.000000\n",
       "TAVE  72.638554\n",
       "TMAX  78.000000"
      ]
     },
     "execution_count": 12,
     "metadata": {},
     "output_type": "execute_result"
    }
   ],
   "source": [
    "# Use your previous function `calc_temps` to calculate the tmin, tavg, and tmax \n",
    "# for your trip using the previous year's data for those same dates.\n",
    "\n",
    "vacay_temps = calc_temps('2016-12-17', '2016-12-29')\n",
    "vacay_df = pd.DataFrame(vacay_temps[0])\n",
    "vacay_df.index=['TMIN', 'TAVE', 'TMAX']\n",
    "vacay_df"
   ]
  },
  {
   "cell_type": "code",
   "execution_count": 19,
   "metadata": {},
   "outputs": [
    {
     "data": {
      "image/png": "[encoded data removed]",
      "text/plain": [
       "<Figure size 288x504 with 1 Axes>"
      ]
     },
     "metadata": {},
     "output_type": "display_data"
    }
   ],
   "source": [
    "# Plot the min, avg, and max temperature from your previous query as a bar chart\n",
    "# Use the average temperature as the bar height\n",
    "# Use the peak-to-peak (tmax-tmin) value as the y error bar (yerr)\n",
    "\n",
    "TMAX = vacay_df.iloc[2,0]\n",
    "TMIN = vacay_df.iloc[0,0]\n",
    "error = TMAX - TMIN\n",
    "TAVE = vacay_df.iloc[1,0]\n",
    "\n",
    "fig, ax = plt.subplots()\n",
    "df = pd.DataFrame({\"TAVE\": [TAVE], \"Error\": [error]})\n",
    "tave = df[\"TAVE\"]\n",
    "stdsum = df[\"Error\"]\n",
    "\n",
    "plot = t.plot(kind='bar', yerr=stdsum, colormap='cool', edgecolor='black',\\\n",
    "                    title = \"Trip Avg Temp\", grid=False, figsize=(4,7),\\\n",
    "                    ax=ax,position=0.45,error_kw=dict(ecolor='black',elinewidth=1.5),width=0.8)\n",
    "plt.ylabel(\"Temp (F)\")\n",
    "ax.yaxis.grid(True, which='major', linestyle='-', linewidth=1.5)\n",
    "plt.show()"
   ]
  },
  {
   "cell_type": "code",
   "execution_count": 17,
   "metadata": {},
   "outputs": [
    {
     "data": {
      "image/png": "[encoded data removed]",
      "text/plain": [
       "<Figure size 288x504 with 1 Axes>"
      ]
     },
     "metadata": {},
     "output_type": "display_data"
    }
   ],
   "source": [
    "fig, ax = plt.subplots()\n",
    "df = pd.DataFrame({\"TAVE\": [TAVE], \"Error\": [error]})\n",
    "meansum = df[\"TAVE\"]\n",
    "stdsum = df[\"Error\"]\n",
    "\n",
    "plot = meansum.plot(kind='bar', yerr=stdsum, colormap='cool', edgecolor='black',\\\n",
    "                    title = \"Trip Avg Temp\", grid=True, figsize=(4,7),\\\n",
    "                    ax=ax,position=0.45,error_kw=dict(ecolor='black',elinewidth=1.5),width=0.8)\n",
    "plt.ylabel(\"Temp (F)\")\n",
    "ax.yaxis.grid(True, which='major', linestyle='-', linewidth=1.5)\n",
    "plt.show()"
   ]
  },
  {
   "cell_type": "markdown",
   "metadata": {},
   "source": [
    "**DAILY RAINFALL AVERAGE**"
   ]
  },
  {
   "cell_type": "code",
   "execution_count": null,
   "metadata": {},
   "outputs": [],
   "source": [
    "# Calculate the total amount of rainfall per weather station for your trip dates using the previous yr's matching dates\n",
    "# Sort this in descending order by precipitation amount and list the station, name, latitude, longitude, and elevation\n",
    "\n",
    "# Set vacation start date and end date with most recent data\n",
    "start_date = dt.date(2016, 12, 17)\n",
    "end_date = dt.date(2016, 12, 29)\n",
    "\n",
    "\n",
    "# Querry from both datasets to find total rainfall at each station for vacation dates\n",
    "sel = [Station.name, Measurement.station, Station.latitude, Station.longitude,\\\n",
    "       Station.elevation, func.sum(Measurement.prcp)]\n",
    "precip_totals = session.query(*sel).\\\n",
    "    filter(Measurement.date >= start_date).\\\n",
    "    filter(Measurement.date <= end_date).\\\n",
    "    filter(Measurement.station == Station.station).\\\n",
    "    group_by(Measurement.station).all()\n",
    "\n",
    "# Preview\n",
    "precip_totals"
   ]
  },
  {
   "cell_type": "code",
   "execution_count": null,
   "metadata": {},
   "outputs": [],
   "source": [
    "# Put into dataframe\n",
    "precip_df = pd.DataFrame(precip_totals, columns=[\"Name\", \"Station\", \"Latitude\",\\\n",
    "                                                 \"Longitude\", \"Elevation\", \"Precipitation\"])\n",
    "precip_df"
   ]
  },
  {
   "cell_type": "code",
   "execution_count": null,
   "metadata": {},
   "outputs": [],
   "source": [
    "# Create a query that will calculate the daily normals \n",
    "# (i.e. the averages for tmin, tmax, and tavg for all historic data matching a specific month and day)\n",
    "\n",
    "def daily_normals(date):\n",
    "    \"\"\"Daily Normals.\n",
    "    \n",
    "    Args:\n",
    "        date (str): A date string in the format '%m-%d'\n",
    "        \n",
    "    Returns:\n",
    "        A list of tuples containing the daily normals, tmin, tavg, and tmax\n",
    "    \n",
    "    \"\"\"\n",
    "    \n",
    "    sel = [func.min(Measurement.tobs), func.avg(Measurement.tobs), func.max(Measurement.tobs)]\n",
    "    return session.query(*sel).filter(func.strftime(\"%m-%d\", Measurement.date) == date).all()\n",
    "    \n",
    "    \n",
    "daily_normals(\"01-01\")"
   ]
  },
  {
   "cell_type": "code",
   "execution_count": null,
   "metadata": {},
   "outputs": [],
   "source": [
    "# calculate the daily normals for your trip\n",
    "# push each tuple of calculations into a list called `normals`\n",
    "\n",
    "# Set the start and end date of the trip\n",
    "\n",
    "# Use the start and end date to create a range of dates\n",
    "\n",
    "# Stip off the year and save a list of %m-%d strings\n",
    "\n",
    "# Loop through the list of %m-%d strings and calculate the normals for each date"
   ]
  },
  {
   "cell_type": "code",
   "execution_count": null,
   "metadata": {},
   "outputs": [],
   "source": [
    "# Load the previous query results into a Pandas DataFrame and add the `trip_dates` range as the `date` index"
   ]
  },
  {
   "cell_type": "code",
   "execution_count": null,
   "metadata": {},
   "outputs": [],
   "source": [
    "# Plot the daily normals as an area plot with `stacked=False`"
   ]
  }
 ],
 "metadata": {
  "kernelspec": {
   "display_name": "Python 3",
   "language": "python",
   "name": "python3"
  },
  "language_info": {
   "codemirror_mode": {
    "name": "ipython",
    "version": 3
   },
   "file_extension": ".py",
   "mimetype": "text/x-python",
   "name": "python",
   "nbconvert_exporter": "python",
   "pygments_lexer": "ipython3",
   "version": "3.7.4"
  }
 },
 "nbformat": 4,
 "nbformat_minor": 2
}
